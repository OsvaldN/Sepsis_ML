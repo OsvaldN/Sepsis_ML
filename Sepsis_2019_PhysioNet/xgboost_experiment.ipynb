{
 "cells": [
  {
   "cell_type": "code",
   "execution_count": 61,
   "metadata": {},
   "outputs": [],
   "source": [
    "import warnings\n",
    "warnings.filterwarnings('ignore')\n",
    "import numpy as np\n",
    "import xgboost as xgb\n",
    "from xgboost import XGBClassifier\n",
    "from sklearn.model_selection import train_test_split, StratifiedKFold, GridSearchCV\n",
    "from data_loader import load_data, data_process\n",
    "import matplotlib.pyplot as plt\n",
    "import pandas as pd\n",
    "from sklearn.preprocessing import LabelEncoder\n",
    "from sklearn.metrics import *"
   ]
  },
  {
   "cell_type": "code",
   "execution_count": 63,
   "metadata": {
    "scrolled": true
   },
   "outputs": [],
   "source": [
    "# load data\n",
    "train_dir = '/Users/raina/Desktop/UHN/physionet/training_setB'\n",
    "train_data, y = load_data(train_dir, limit=10000)\n",
    "X = data_process(train_data, expand_dims=False)"
   ]
  },
  {
   "cell_type": "code",
   "execution_count": 64,
   "metadata": {
    "scrolled": false
   },
   "outputs": [
    {
     "data": {
      "text/plain": [
       "(380176,)"
      ]
     },
     "execution_count": 64,
     "metadata": {},
     "output_type": "execute_result"
    }
   ],
   "source": [
    "y_ = np.hstack((yi for yi in y))\n",
    "y_.shape"
   ]
  },
  {
   "cell_type": "code",
   "execution_count": 65,
   "metadata": {},
   "outputs": [
    {
     "data": {
      "text/plain": [
       "(380176, 40)"
      ]
     },
     "execution_count": 65,
     "metadata": {},
     "output_type": "execute_result"
    }
   ],
   "source": [
    "X_ = np.vstack(X).astype(np.float)\n",
    "X_.shape"
   ]
  },
  {
   "cell_type": "code",
   "execution_count": 66,
   "metadata": {},
   "outputs": [],
   "source": [
    "# split data into train and test sets\n",
    "seed = 42\n",
    "test_size = 0.33\n",
    "X_train, X_test, y_train, y_test = train_test_split(X_, y_, \n",
    "                                                    test_size=test_size,\n",
    "                                                    random_state=seed)"
   ]
  },
  {
   "cell_type": "code",
   "execution_count": 76,
   "metadata": {
    "scrolled": true
   },
   "outputs": [
    {
     "data": {
      "text/plain": [
       "XGBClassifier(base_score=0.5, booster='gbtree', colsample_bylevel=1,\n",
       "              colsample_bytree=1, gamma=0, learning_rate=0.1, max_delta_step=0,\n",
       "              max_depth=6, min_child_weight=1, missing=None, n_estimators=100,\n",
       "              n_jobs=1, nthread=None, objective='binary:logistic',\n",
       "              random_state=0, reg_alpha=0, reg_lambda=1, scale_pos_weight=1,\n",
       "              seed=None, silent=True, subsample=1)"
      ]
     },
     "execution_count": 76,
     "metadata": {},
     "output_type": "execute_result"
    }
   ],
   "source": [
    "# fit the model\n",
    "model = XGBClassifier(max_depth=6)\n",
    "model.fit(X_train, y_train)"
   ]
  },
  {
   "cell_type": "code",
   "execution_count": 78,
   "metadata": {
    "scrolled": false
   },
   "outputs": [],
   "source": [
    "# make predictions for test data\n",
    "# loop over each patient and predict using only past and present data\n",
    "y_pred = model.predict(X_test)"
   ]
  },
  {
   "cell_type": "code",
   "execution_count": 79,
   "metadata": {},
   "outputs": [],
   "source": [
    "# since binay classification problem, can convert the result to 0 or 1\n",
    "# using round()\n",
    "predictions = [round(value) for value in y_pred]"
   ]
  },
  {
   "cell_type": "code",
   "execution_count": 84,
   "metadata": {},
   "outputs": [
    {
     "name": "stdout",
     "output_type": "stream",
     "text": [
      "Accuracy: 98.65%\n",
      "f1 score: 11.46%\n",
      "roc_auc score: 53.09%\n",
      "confusion matrix: \n",
      " n = 380176\n",
      " [[123650     39]\n",
      " [  1660    110]]\n",
      "precision score: 0.74%\n",
      "recall score: 0.06%\n"
     ]
    }
   ],
   "source": [
    "# evaluate predictions\n",
    "from sklearn.metrics import confusion_matrix\n",
    "accuracy = accuracy_score(y_test, predictions)\n",
    "print(\"Accuracy: %.2f%%\" % (accuracy * 100.0))\n",
    "f1 = f1_score(y_test, predictions)\n",
    "print(\"f1 score: %.2f%%\" % (f1 * 100.0))\n",
    "roc_auc = roc_auc_score(y_test, predictions)\n",
    "print(\"roc_auc score: %.2f%%\" % (roc_auc * 100.0))\n",
    "confusion = confusion_matrix(y_test, predictions)\n",
    "print(\"confusion matrix: \\n n = %d\\n\" %y_.shape[0], confusion)\n",
    "print(\"precision score: %.2f%%\" % precision_score(y_test, predictions))\n",
    "print(\"recall score: %.2f%%\" % recall_score(y_test, predictions))"
   ]
  },
  {
   "cell_type": "code",
   "execution_count": null,
   "metadata": {},
   "outputs": [],
   "source": [
    "# base parameters\n",
    "base_params = {\n",
    "    'booster': 'gbtree',\n",
    "    'objective': 'reg:linear',  # regression task\n",
    "    'seed': 42} "
   ]
  },
  {
   "cell_type": "code",
   "execution_count": null,
   "metadata": {},
   "outputs": [],
   "source": [
    "# tune the parameters\n",
    "# Randomized Search\n",
    "params = {\n",
    "        'min_child_weight': [1, 5, 10],\n",
    "        'gamma': [0.5, 1, 1.5, 2, 5],\n",
    "        'subsample': [0.6, 0.8, 1.0],\n",
    "        'colsample_bytree': [0.6, 0.8, 1.0],\n",
    "        'max_depth': [3, 4, 5, 10, 20],\n",
    "        'learning_rate': [0.01, 0.03, 0.1, 0.3]\n",
    "}"
   ]
  },
  {
   "cell_type": "code",
   "execution_count": null,
   "metadata": {},
   "outputs": [],
   "source": [
    "folds = 5\n",
    "param_comb = 6\n",
    "\n",
    "skf = StratifiedKFold(n_splits=folds, shuffle = True, random_state = 1001)\n",
    "\n",
    "random_search = RandomizedSearchCV(model, \n",
    "                             param_distributions=params, \n",
    "                             n_iter=param_comb, \n",
    "                             scoring='roc_auc', \n",
    "                             n_jobs=4, \n",
    "                             cv=skf.split(X_train, y_train), \n",
    "                             verbose=3, \n",
    "                             random_state=42)\n",
    "random_search.fit(X_train, y_train)"
   ]
  },
  {
   "cell_type": "code",
   "execution_count": null,
   "metadata": {},
   "outputs": [],
   "source": [
    "print(random_search.best_params_)"
   ]
  },
  {
   "cell_type": "code",
   "execution_count": null,
   "metadata": {
    "scrolled": true
   },
   "outputs": [],
   "source": [
    "best_params_ = {'subsample': 1.0, 'min_child_weight': 5, 'max_depth': 3, 'learning_rate': 0.3, 'gamma': 5, 'colsample_bytree': 0.6}\n",
    "params_new = {**base_params, **best_params_}\n",
    "dtrain = xgb.DMatrix(X_train, label=y_train)\n",
    "dtest = xgb.DMatrix(X_test)\n",
    "rounds = 15\n",
    "model_final = xgb.train(params_new, dtrain, \n",
    "                        num_boost_round=rounds)\n",
    "pred = model_final.predict(dtest)\n",
    "pred_final = [round(value) for value in pred]\n"
   ]
  },
  {
   "cell_type": "code",
   "execution_count": null,
   "metadata": {
    "scrolled": true
   },
   "outputs": [],
   "source": [
    "print(params_new)"
   ]
  },
  {
   "cell_type": "code",
   "execution_count": null,
   "metadata": {},
   "outputs": [],
   "source": [
    "final_model = XGBClassifier(**params_new)"
   ]
  },
  {
   "cell_type": "code",
   "execution_count": null,
   "metadata": {},
   "outputs": [],
   "source": [
    "final_model.fit(X_train, y_train)\n",
    "final_y_pred = model.predict(X_test)\n",
    "pred_final = [round(value) for value in final_y_pred]"
   ]
  },
  {
   "cell_type": "code",
   "execution_count": null,
   "metadata": {},
   "outputs": [],
   "source": [
    "accuracy2 = accuracy_score(y_test, pred_final)\n",
    "print(\"Accuracy: %.2f%%\" % (accuracy2 * 100.0))"
   ]
  },
  {
   "cell_type": "code",
   "execution_count": null,
   "metadata": {},
   "outputs": [],
   "source": [
    "final_model.save_model('002.model')"
   ]
  },
  {
   "cell_type": "code",
   "execution_count": null,
   "metadata": {
    "scrolled": true
   },
   "outputs": [],
   "source": [
    "# analyze feature importance\n",
    "importance = final_model.feature_importances_\n",
    "print(importance)"
   ]
  },
  {
   "cell_type": "code",
   "execution_count": null,
   "metadata": {},
   "outputs": [],
   "source": [
    "vector = np.ones((1,40))\n",
    "df = pd.DataFrame(importance, columns = ['fscore'])\n",
    "df['fscore'] = df['fscore'] / df['fscore'].sum()\n",
    "plt.figure()"
   ]
  },
  {
   "cell_type": "code",
   "execution_count": null,
   "metadata": {
    "scrolled": true
   },
   "outputs": [],
   "source": [
    "df.plot(kind='barh', y='fscore',\n",
    "            legend=False, figsize=(12, 10))\n",
    "plt.title('XGBoost Feature Importance')\n",
    "plt.xlabel('relative importance')\n",
    "plt.tight_layout()\n",
    "plt.savefig('XGBoost Feature Importance' + '.png', dpi=300)\n",
    "plt.show()"
   ]
  },
  {
   "cell_type": "code",
   "execution_count": null,
   "metadata": {},
   "outputs": [],
   "source": [
    "model = XGBClassifier()\n",
    "model.load_model('002.model')\n",
    "model._le = LabelEncoder().fit(y_test)"
   ]
  },
  {
   "cell_type": "code",
   "execution_count": null,
   "metadata": {
    "scrolled": true
   },
   "outputs": [],
   "source": [
    "final_y_pred = model.predict(X_)\n",
    "pred_final = [round(value) for value in final_y_pred]"
   ]
  },
  {
   "cell_type": "code",
   "execution_count": null,
   "metadata": {},
   "outputs": [],
   "source": [
    "any([value != 0 for value in final_y_pred])"
   ]
  },
  {
   "cell_type": "code",
   "execution_count": null,
   "metadata": {},
   "outputs": [],
   "source": [
    "# evaluations\n",
    "from sklearn.metrics import confusion_matrix\n",
    "accuracy = accuracy_score(y_, pred_final)\n",
    "print(\"Accuracy: %.2f%%\" % (accuracy * 100.0))\n",
    "f1 = f1_score(y_, pred_final)\n",
    "print(\"f1 score: %.2f%%\" % (f1 * 100.0))\n",
    "roc_auc = roc_auc_score(y_, pred_final)\n",
    "print(\"roc_auc score: %.2f%%\" % (roc_auc * 100.0))\n",
    "confusion = confusion_matrix(y_, pred_final)\n",
    "print(\"confusion matrix: \\n n = %d\\n\" %y_.shape[0], confusion)"
   ]
  },
  {
   "cell_type": "code",
   "execution_count": null,
   "metadata": {},
   "outputs": [],
   "source": [
    "print(precision_score(y_, pred_final))\n",
    "print(recall_score(y_,pred_final))"
   ]
  }
 ],
 "metadata": {
  "kernelspec": {
   "display_name": "Python 3",
   "language": "python",
   "name": "python3"
  },
  "language_info": {
   "codemirror_mode": {
    "name": "ipython",
    "version": 3
   },
   "file_extension": ".py",
   "mimetype": "text/x-python",
   "name": "python",
   "nbconvert_exporter": "python",
   "pygments_lexer": "ipython3",
   "version": "3.6.6"
  }
 },
 "nbformat": 4,
 "nbformat_minor": 2
}
