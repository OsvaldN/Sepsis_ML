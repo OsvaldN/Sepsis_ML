{
 "cells": [
  {
   "cell_type": "code",
   "execution_count": 1,
   "metadata": {},
   "outputs": [
    {
     "name": "stderr",
     "output_type": "stream",
     "text": [
      "Using TensorFlow backend.\n"
     ]
    }
   ],
   "source": [
    "import pickle\n",
    "import numpy as np, os, os.path, sys, warnings\n",
    "import pandas as pd\n",
    "\n",
    "from keras.layers import Dense, Dropout, Embedding\n",
    "from keras.models import Input, Model\n",
    "from keras.preprocessing import sequence\n",
    "from tensorflow.python.framework import ops\n",
    "from tcn import TCN\n",
    "from sklearn.model_selection import train_test_split\n",
    "from keras.models import load_model\n",
    "from keras import callbacks\n",
    "from sklearn.preprocessing import normalize\n",
    "from matplotlib import pyplot as plt\n",
    "from keras.models import load_model\n",
    "\n",
    "pd.set_option('display.max_rows', 500)\n",
    "pd.set_option('display.max_columns', 500)\n",
    "pd.set_option('display.width', 1000)"
   ]
  },
  {
   "cell_type": "code",
   "execution_count": 2,
   "metadata": {},
   "outputs": [],
   "source": [
    "def compute_prediction_utility(labels, predictions, dt_early=-12, dt_optimal=-6, dt_late=3.0, max_u_tp=1, min_u_fn=-2, u_fp=-0.05, u_tn=0, check_errors=True):\n",
    "    # Check inputs for errors.\n",
    "      # Does the patient eventually have sepsis?\n",
    "    if np.any(labels):\n",
    "        is_septic = True\n",
    "        t_sepsis = np.argmax(labels) - dt_optimal\n",
    "    else:\n",
    "        is_septic = False\n",
    "        t_sepsis = float('inf')\n",
    "\n",
    "    n = len(labels)\n",
    "\n",
    "    # Define slopes and intercept points for utility functions of the form\n",
    "    # u = m * t + b.\n",
    "    m_1 = float(max_u_tp) / float(dt_optimal - dt_early)\n",
    "    b_1 = -m_1 * dt_early\n",
    "    m_2 = float(-max_u_tp) / float(dt_late - dt_optimal)\n",
    "    b_2 = -m_2 * dt_late\n",
    "    m_3 = float(min_u_fn) / float(dt_late - dt_optimal)\n",
    "    b_3 = -m_3 * dt_optimal\n",
    "\n",
    "    # Compare predicted and true conditions.\n",
    "    u = np.zeros(n)\n",
    "    for t in range(n):\n",
    "        if t <= t_sepsis + dt_late:\n",
    "            # TP\n",
    "            if is_septic and predictions[t]:\n",
    "                if t <= t_sepsis + dt_optimal:\n",
    "                    u[t] = max(m_1 * (t - t_sepsis) + b_1, u_fp)\n",
    "                elif t <= t_sepsis + dt_late:\n",
    "                    u[t] = m_2 * (t - t_sepsis) + b_2\n",
    "            # FP\n",
    "            elif not is_septic and predictions[t]:\n",
    "                u[t] = u_fp\n",
    "            # FN\n",
    "            elif is_septic and not predictions[t]:\n",
    "                if t <= t_sepsis + dt_optimal:\n",
    "                    u[t] = 0\n",
    "                elif t <= t_sepsis + dt_late:\n",
    "                    u[t] = m_3 * (t - t_sepsis) + b_3\n",
    "            # TN\n",
    "            elif not is_septic and not predictions[t]:\n",
    "                u[t] = u_tn\n",
    "\n",
    "    # Find total utility for patient.\n",
    "    return np.sum(u)"
   ]
  },
  {
   "cell_type": "code",
   "execution_count": 3,
   "metadata": {},
   "outputs": [],
   "source": [
    "def evaluate_sepsis_score(labels, prediction):\n",
    "\n",
    "    dt_early   = -12\n",
    "    dt_optimal = -6\n",
    "    dt_late    = 3\n",
    "\n",
    "    max_u_tp = 1\n",
    "    min_u_fn = -2\n",
    "    u_fp     = -0.05\n",
    "    u_tn     = 0\n",
    "    num_files= len(labels)\n",
    "    \n",
    "\n",
    "    # Compute utility.\n",
    "    observed_utilities = np.zeros(num_files)\n",
    "    best_utilities     = np.zeros(num_files)\n",
    "    worst_utilities    = np.zeros(num_files)\n",
    "    inaction_utilities = np.zeros(num_files)\n",
    "\n",
    "    for k in range(num_files):\n",
    "        num_rows          = len(labels[k])\n",
    "        observed_predictions = prediction[k]\n",
    "        best_predictions     = np.zeros(num_rows)\n",
    "        worst_predictions    = np.zeros(num_rows)\n",
    "        inaction_predictions = np.zeros(num_rows)\n",
    "\n",
    "        if np.any(labels[k]):\n",
    "            t_sepsis = np.argmax(labels[k]) - dt_optimal\n",
    "            best_predictions[max(0, t_sepsis + dt_early) : min(t_sepsis + dt_late + 1, num_rows)] = 1\n",
    "        worst_predictions = 1 - best_predictions\n",
    "\n",
    "        observed_utilities[k] = compute_prediction_utility(labels[k], observed_predictions, dt_early, dt_optimal, dt_late, max_u_tp, min_u_fn, u_fp, u_tn)\n",
    "        best_utilities[k]     = compute_prediction_utility(labels[k], best_predictions, dt_early, dt_optimal, dt_late, max_u_tp, min_u_fn, u_fp, u_tn)\n",
    "        worst_utilities[k]    = compute_prediction_utility(labels[k], worst_predictions, dt_early, dt_optimal, dt_late, max_u_tp, min_u_fn, u_fp, u_tn)\n",
    "        inaction_utilities[k] = compute_prediction_utility(labels[k], inaction_predictions, dt_early, dt_optimal, dt_late, max_u_tp, min_u_fn, u_fp, u_tn)\n",
    "\n",
    "    unnormalized_observed_utility = np.sum(observed_utilities)\n",
    "    unnormalized_best_utility     = np.sum(best_utilities)\n",
    "    unnormalized_worst_utility    = np.sum(worst_utilities)\n",
    "    unnormalized_inaction_utility = np.sum(inaction_utilities)\n",
    "\n",
    "    normalized_observed_utility = (unnormalized_observed_utility - unnormalized_inaction_utility) / (unnormalized_best_utility - unnormalized_inaction_utility)\n",
    "\n",
    "    return  normalized_observed_utility"
   ]
  },
  {
   "cell_type": "code",
   "execution_count": 4,
   "metadata": {},
   "outputs": [],
   "source": [
    "x=pickle.load(open( \"x_miss_ff\", \"rb\" ))\n",
    "y=pickle.load(open( \"y\", \"rb\" ))"
   ]
  },
  {
   "cell_type": "code",
   "execution_count": 36,
   "metadata": {},
   "outputs": [],
   "source": [
    "def get_weights(pt):\n",
    "    s_weights=np.ones(len(pt))*.05\n",
    "    if pt[-1]==1:   \n",
    "        t_sepsis=np.where(pt==1)[0][0]\n",
    "        s_weights[t_sepsis]=1*10\n",
    "        for j in range(t_sepsis-6,t_sepsis):\n",
    "            s_weights[j]=-1*np.absolute(1-1/6*(t_sepsis-j))*10\n",
    "        for k in range(t_sepsis+1,len(pt)):\n",
    "            pos=1-(k-t_sepsis)*1/9\n",
    "            neg=-(k-t_sepsis)*2/9\n",
    "            s_weights[k]=(pos-neg)*10\n",
    "    return s_weights"
   ]
  },
  {
   "cell_type": "code",
   "execution_count": 6,
   "metadata": {},
   "outputs": [],
   "source": [
    "x_train, x_test, y_train, y_test = train_test_split(x, y, test_size=0.1,random_state=42)"
   ]
  },
  {
   "cell_type": "code",
   "execution_count": 7,
   "metadata": {},
   "outputs": [],
   "source": [
    "for i in range(len(x_train)):\n",
    "    x_train[i]=np.asarray(x_train[i])\n",
    "    y_train[i]=np.asarray(y_train[i])"
   ]
  },
  {
   "cell_type": "code",
   "execution_count": 8,
   "metadata": {},
   "outputs": [],
   "source": [
    "for i in range(len(x_test)):\n",
    "    x_test[i]=np.asarray(x_test[i])\n",
    "    y_test[i]=np.asarray(y_test[i])"
   ]
  },
  {
   "cell_type": "code",
   "execution_count": 37,
   "metadata": {},
   "outputs": [],
   "source": [
    "def get_x_y(x_train,y_train):\n",
    "    while True:\n",
    "        for k in range(len(x_train)):\n",
    "            x_t = x_train[k]\n",
    "            y_t = y_train[k]\n",
    "            sample_weights=get_weights(y_train[k])\n",
    "            sample_weights=sample_weights.reshape(len(sample_weights),1)\n",
    "            yield (np.expand_dims(np.array(x_t),axis=0), np.expand_dims(np.array(y_t),axis=0),sample_weights.T)"
   ]
  },
  {
   "cell_type": "code",
   "execution_count": 10,
   "metadata": {},
   "outputs": [],
   "source": [
    "i = Input(batch_shape=(1, None, 69))\n",
    "\n",
    "o = TCN(nb_filters=30, kernel_size=2, nb_stacks=1, dilations=[1, 2, 4,8,16,32], padding='causal', use_skip_connections=True, dropout_rate=0.5, return_sequences=True, name='tcn')(i)\n",
    "o = Dense(1,activation='sigmoid')(o)\n",
    "\n",
    "model = Model(inputs=[i], outputs=[o])"
   ]
  },
  {
   "cell_type": "code",
   "execution_count": 38,
   "metadata": {},
   "outputs": [],
   "source": [
    "model.compile(optimizer='sgd',loss='mse', metrics=['binary_accuracy','mse','binary_crossentropy'],sample_weight_mode='temporal')"
   ]
  },
  {
   "cell_type": "code",
   "execution_count": 39,
   "metadata": {},
   "outputs": [],
   "source": [
    "es = callbacks.EarlyStopping(monitor='loss', mode='min', verbose=1, patience=10,restore_best_weights=True)"
   ]
  },
  {
   "cell_type": "code",
   "execution_count": 40,
   "metadata": {},
   "outputs": [],
   "source": [
    "gen = get_x_y(x_train=x_train,y_train=y_train)"
   ]
  },
  {
   "cell_type": "code",
   "execution_count": null,
   "metadata": {},
   "outputs": [
    {
     "name": "stdout",
     "output_type": "stream",
     "text": [
      "Epoch 1/300\n",
      "36302/36302 [==============================] - 390s 11ms/step - loss: -0.0015 - binary_accuracy: 0.1586 - mean_squared_error: 0.6991 - binary_crossentropy: 3.5075\n",
      "Epoch 2/300\n",
      "36302/36302 [==============================] - 391s 11ms/step - loss: -0.0026 - binary_accuracy: 0.1720 - mean_squared_error: 0.6922 - binary_crossentropy: 3.7169\n",
      "Epoch 3/300\n",
      " 8971/36302 [======>.......................] - ETA: 4:53 - loss: -0.0044 - binary_accuracy: 0.2058 - mean_squared_error: 0.6662 - binary_crossentropy: 3.6672"
     ]
    }
   ],
   "source": [
    "model.fit_generator(gen, epochs=300, steps_per_epoch=len(x_train), verbose=1,callbacks=[es],shuffle=True)"
   ]
  },
  {
   "cell_type": "code",
   "execution_count": null,
   "metadata": {},
   "outputs": [],
   "source": [
    "model.save('TCN_june10_365_trial2_1.h5')  "
   ]
  },
  {
   "cell_type": "code",
   "execution_count": null,
   "metadata": {},
   "outputs": [],
   "source": [
    "def get_weights(pt):\n",
    "    s_weights=np.ones(len(pt))*.05\n",
    "    if pt[-1]==1:   \n",
    "        t_sepsis=np.where(pt==1)[0][0]\n",
    "        s_weights[t_sepsis]=1*5\n",
    "        for j in range(t_sepsis-6,t_sepsis):\n",
    "            s_weights[j]=-1*np.absolute(1-1/6*(t_sepsis-j))*5\n",
    "        for k in range(t_sepsis+1,len(pt)):\n",
    "            pos=1-(k-t_sepsis)*1/9\n",
    "            neg=-(k-t_sepsis)*2/9\n",
    "            s_weights[k]=(pos-neg)*5\n",
    "    return s_weights"
   ]
  },
  {
   "cell_type": "code",
   "execution_count": null,
   "metadata": {},
   "outputs": [],
   "source": [
    "gen = get_x_y(x_train=x_train,y_train=y_train)\n",
    "model.fit_generator(gen, epochs=300, steps_per_epoch=len(x_train), verbose=1,callbacks=[es],shuffle=True)\n",
    "model.save('TCN_june10_365_trial2_1_2_v2.h5')  "
   ]
  },
  {
   "cell_type": "code",
   "execution_count": null,
   "metadata": {},
   "outputs": [
    {
     "name": "stdout",
     "output_type": "stream",
     "text": [
      "Epoch 1/300\n",
      "36302/36302 [==============================] - 401s 11ms/step - loss: 0.0228 - binary_accuracy: 0.5660 - mean_squared_error: 0.2724 - binary_crossentropy: 0.8191\n",
      "Epoch 2/300\n",
      "36302/36302 [==============================] - 392s 11ms/step - loss: 0.0188 - binary_accuracy: 0.6590 - mean_squared_error: 0.2331 - binary_crossentropy: 0.6915\n",
      "Epoch 3/300\n",
      "36302/36302 [==============================] - 393s 11ms/step - loss: 0.0179 - binary_accuracy: 0.6845 - mean_squared_error: 0.2250 - binary_crossentropy: 0.6855\n",
      "Epoch 4/300\n",
      "36302/36302 [==============================] - 392s 11ms/step - loss: 0.0175 - binary_accuracy: 0.7010 - mean_squared_error: 0.2212 - binary_crossentropy: 0.6913\n",
      "Epoch 5/300\n",
      "36302/36302 [==============================] - 392s 11ms/step - loss: 0.0170 - binary_accuracy: 0.7106 - mean_squared_error: 0.2170 - binary_crossentropy: 0.6883\n",
      "Epoch 6/300\n",
      "36302/36302 [==============================] - 392s 11ms/step - loss: 0.0167 - binary_accuracy: 0.7189 - mean_squared_error: 0.2136 - binary_crossentropy: 0.6871\n",
      "Epoch 7/300\n",
      "36302/36302 [==============================] - 392s 11ms/step - loss: 0.0163 - binary_accuracy: 0.7278 - mean_squared_error: 0.2103 - binary_crossentropy: 0.6889\n",
      "Epoch 8/300\n",
      "36302/36302 [==============================] - 392s 11ms/step - loss: 0.0160 - binary_accuracy: 0.7253 - mean_squared_error: 0.2090 - binary_crossentropy: 0.6908\n",
      "Epoch 9/300\n",
      "36302/36302 [==============================] - 392s 11ms/step - loss: 0.0160 - binary_accuracy: 0.7283 - mean_squared_error: 0.2085 - binary_crossentropy: 0.6960\n",
      "Epoch 10/300\n",
      "36302/36302 [==============================] - 392s 11ms/step - loss: 0.0157 - binary_accuracy: 0.7311 - mean_squared_error: 0.2065 - binary_crossentropy: 0.6933\n",
      "Epoch 11/300\n",
      "36302/36302 [==============================] - 396s 11ms/step - loss: 0.0157 - binary_accuracy: 0.7346 - mean_squared_error: 0.2052 - binary_crossentropy: 0.6908\n",
      "Epoch 12/300\n",
      "36302/36302 [==============================] - 508s 14ms/step - loss: 0.0155 - binary_accuracy: 0.7361 - mean_squared_error: 0.2041 - binary_crossentropy: 0.6940\n",
      "Epoch 13/300\n",
      "36302/36302 [==============================] - 544s 15ms/step - loss: 0.0154 - binary_accuracy: 0.7391 - mean_squared_error: 0.2031 - binary_crossentropy: 0.6914\n",
      "Epoch 14/300\n",
      "36302/36302 [==============================] - 525s 14ms/step - loss: 0.0152 - binary_accuracy: 0.7386 - mean_squared_error: 0.2022 - binary_crossentropy: 0.6933\n",
      "Epoch 15/300\n",
      " 9530/36302 [======>.......................] - ETA: 5:15 - loss: 0.0150 - binary_accuracy: 0.7431 - mean_squared_error: 0.1987 - binary_crossentropy: 0.6866"
     ]
    },
    {
     "name": "stderr",
     "output_type": "stream",
     "text": [
      "IOPub message rate exceeded.\n",
      "The notebook server will temporarily stop sending output\n",
      "to the client in order to avoid crashing it.\n",
      "To change this limit, set the config variable\n",
      "`--NotebookApp.iopub_msg_rate_limit`.\n",
      "\n",
      "Current values:\n",
      "NotebookApp.iopub_msg_rate_limit=1000.0 (msgs/sec)\n",
      "NotebookApp.rate_limit_window=3.0 (secs)\n",
      "\n"
     ]
    },
    {
     "name": "stdout",
     "output_type": "stream",
     "text": [
      "36302/36302 [==============================] - 402s 11ms/step - loss: 0.0153 - binary_accuracy: 0.7413 - mean_squared_error: 0.2014 - binary_crossentropy: 0.6946\n",
      "Epoch 16/300\n",
      "13321/36302 [==========>...................] - ETA: 4:05 - loss: 0.0152 - binary_accuracy: 0.7296 - mean_squared_error: 0.2062 - binary_crossentropy: 0.7077"
     ]
    },
    {
     "name": "stderr",
     "output_type": "stream",
     "text": [
      "IOPub message rate exceeded.\n",
      "The notebook server will temporarily stop sending output\n",
      "to the client in order to avoid crashing it.\n",
      "To change this limit, set the config variable\n",
      "`--NotebookApp.iopub_msg_rate_limit`.\n",
      "\n",
      "Current values:\n",
      "NotebookApp.iopub_msg_rate_limit=1000.0 (msgs/sec)\n",
      "NotebookApp.rate_limit_window=3.0 (secs)\n",
      "\n"
     ]
    },
    {
     "name": "stdout",
     "output_type": "stream",
     "text": [
      "36302/36302 [==============================] - 390s 11ms/step - loss: 0.0152 - binary_accuracy: 0.7379 - mean_squared_error: 0.2020 - binary_crossentropy: 0.6973\n",
      "Epoch 17/300\n",
      "36302/36302 [==============================] - 391s 11ms/step - loss: 0.0150 - binary_accuracy: 0.7442 - mean_squared_error: 0.2000 - binary_crossentropy: 0.6931\n",
      "Epoch 18/300\n",
      "36302/36302 [==============================] - 391s 11ms/step - loss: 0.0150 - binary_accuracy: 0.7465 - mean_squared_error: 0.1976 - binary_crossentropy: 0.6860\n",
      "Epoch 19/300\n",
      "36302/36302 [==============================] - 392s 11ms/step - loss: 0.0148 - binary_accuracy: 0.7424 - mean_squared_error: 0.1994 - binary_crossentropy: 0.6909\n",
      "Epoch 20/300\n",
      "36302/36302 [==============================] - 391s 11ms/step - loss: 0.0147 - binary_accuracy: 0.7419 - mean_squared_error: 0.1978 - binary_crossentropy: 0.6871\n",
      "Epoch 21/300\n",
      "14750/36302 [===========>..................] - ETA: 3:53 - loss: 0.0149 - binary_accuracy: 0.7406 - mean_squared_error: 0.1999 - binary_crossentropy: 0.6915"
     ]
    }
   ],
   "source": [
    "model.fit_generator(gen, epochs=300, steps_per_epoch=len(x_train), verbose=1,callbacks=[es],shuffle=True)"
   ]
  },
  {
   "cell_type": "code",
   "execution_count": null,
   "metadata": {},
   "outputs": [],
   "source": [
    "label=list()\n",
    "prediction=list()\n",
    "probability=list()\n",
    "for i in range(len((x_test[:2000]))):\n",
    "    probability.append((model.predict(np.expand_dims(x_test[i],axis=0))[0]))\n",
    "    prediction.append(((model.predict(np.expand_dims(x_test[i],axis=0))[0])>0.4)*1)\n",
    "    label.append(np.asarray(y_test[i]))\n",
    "evaluate_sepsis_score(labels=label, prediction=prediction)"
   ]
  },
  {
   "cell_type": "code",
   "execution_count": 35,
   "metadata": {},
   "outputs": [],
   "source": [
    "model.save('TCN_june10_365_1.h5')  "
   ]
  },
  {
   "cell_type": "code",
   "execution_count": 34,
   "metadata": {},
   "outputs": [
    {
     "data": {
      "text/plain": [
       "0.25936919237508627"
      ]
     },
     "execution_count": 34,
     "metadata": {},
     "output_type": "execute_result"
    }
   ],
   "source": [
    "label=list()\n",
    "prediction=list()\n",
    "probability=list()\n",
    "for i in range(len((x_test))):\n",
    "    probability.append((model.predict(np.expand_dims(x_test[i],axis=0))[0]))\n",
    "    prediction.append(((model.predict(np.expand_dims(x_test[i],axis=0))[0])>0.45)*1)\n",
    "    label.append(np.asarray(y_test[i]))\n",
    "evaluate_sepsis_score(labels=label, prediction=prediction)"
   ]
  },
  {
   "cell_type": "code",
   "execution_count": 33,
   "metadata": {},
   "outputs": [
    {
     "data": {
      "text/plain": [
       "0.33362448892900753"
      ]
     },
     "execution_count": 33,
     "metadata": {},
     "output_type": "execute_result"
    }
   ],
   "source": [
    "label=list()\n",
    "prediction=list()\n",
    "probability=list()\n",
    "for i in range(len((x_test))):\n",
    "    probability.append((model.predict(np.expand_dims(x_test[i],axis=0))[0]))\n",
    "    prediction.append(((model.predict(np.expand_dims(x_test[i],axis=0))[0])>0.55)*1)\n",
    "    label.append(np.asarray(y_test[i]))\n",
    "evaluate_sepsis_score(labels=label, prediction=prediction)"
   ]
  },
  {
   "cell_type": "code",
   "execution_count": 32,
   "metadata": {},
   "outputs": [
    {
     "data": {
      "text/plain": [
       "0.34955264694950355"
      ]
     },
     "execution_count": 32,
     "metadata": {},
     "output_type": "execute_result"
    }
   ],
   "source": [
    "label=list()\n",
    "prediction=list()\n",
    "probability=list()\n",
    "for i in range(len((x_test))):\n",
    "    probability.append((model.predict(np.expand_dims(x_test[i],axis=0))[0]))\n",
    "    prediction.append(((model.predict(np.expand_dims(x_test[i],axis=0))[0])>0.6)*1)\n",
    "    label.append(np.asarray(y_test[i]))\n",
    "evaluate_sepsis_score(labels=label, prediction=prediction)"
   ]
  },
  {
   "cell_type": "code",
   "execution_count": 29,
   "metadata": {},
   "outputs": [
    {
     "data": {
      "text/plain": [
       "0.3575585408591303"
      ]
     },
     "execution_count": 29,
     "metadata": {},
     "output_type": "execute_result"
    }
   ],
   "source": [
    "label=list()\n",
    "prediction=list()\n",
    "probability=list()\n",
    "for i in range(len((x_test))):\n",
    "    probability.append((model.predict(np.expand_dims(x_test[i],axis=0))[0]))\n",
    "    prediction.append(((model.predict(np.expand_dims(x_test[i],axis=0))[0])>0.65)*1)\n",
    "    label.append(np.asarray(y_test[i]))\n",
    "evaluate_sepsis_score(labels=label, prediction=prediction)"
   ]
  },
  {
   "cell_type": "code",
   "execution_count": 28,
   "metadata": {},
   "outputs": [
    {
     "data": {
      "text/plain": [
       "0.36150639834333353"
      ]
     },
     "execution_count": 28,
     "metadata": {},
     "output_type": "execute_result"
    }
   ],
   "source": [
    "label=list()\n",
    "prediction=list()\n",
    "probability=list()\n",
    "for i in range(len((x_test))):\n",
    "    probability.append((model.predict(np.expand_dims(x_test[i],axis=0))[0]))\n",
    "    prediction.append(((model.predict(np.expand_dims(x_test[i],axis=0))[0])>0.7)*1)\n",
    "    label.append(np.asarray(y_test[i]))\n",
    "evaluate_sepsis_score(labels=label, prediction=prediction)"
   ]
  },
  {
   "cell_type": "code",
   "execution_count": 30,
   "metadata": {},
   "outputs": [
    {
     "data": {
      "text/plain": [
       "0.34594594594594597"
      ]
     },
     "execution_count": 30,
     "metadata": {},
     "output_type": "execute_result"
    }
   ],
   "source": [
    "label=list()\n",
    "prediction=list()\n",
    "probability=list()\n",
    "for i in range(len((x_test))):\n",
    "    probability.append((model.predict(np.expand_dims(x_test[i],axis=0))[0]))\n",
    "    prediction.append(((model.predict(np.expand_dims(x_test[i],axis=0))[0])>0.75)*1)\n",
    "    label.append(np.asarray(y_test[i]))\n",
    "evaluate_sepsis_score(labels=label, prediction=prediction)"
   ]
  },
  {
   "cell_type": "code",
   "execution_count": 31,
   "metadata": {},
   "outputs": [
    {
     "data": {
      "text/plain": [
       "0.33459618754314235"
      ]
     },
     "execution_count": 31,
     "metadata": {},
     "output_type": "execute_result"
    }
   ],
   "source": [
    "label=list()\n",
    "prediction=list()\n",
    "probability=list()\n",
    "for i in range(len((x_test))):\n",
    "    probability.append((model.predict(np.expand_dims(x_test[i],axis=0))[0]))\n",
    "    prediction.append(((model.predict(np.expand_dims(x_test[i],axis=0))[0])>0.8)*1)\n",
    "    label.append(np.asarray(y_test[i]))\n",
    "evaluate_sepsis_score(labels=label, prediction=prediction)"
   ]
  },
  {
   "cell_type": "code",
   "execution_count": null,
   "metadata": {},
   "outputs": [],
   "source": []
  }
 ],
 "metadata": {
  "kernelspec": {
   "display_name": "Python 3",
   "language": "python",
   "name": "python3"
  },
  "language_info": {
   "codemirror_mode": {
    "name": "ipython",
    "version": 3
   },
   "file_extension": ".py",
   "mimetype": "text/x-python",
   "name": "python",
   "nbconvert_exporter": "python",
   "pygments_lexer": "ipython3",
   "version": "3.5.2"
  }
 },
 "nbformat": 4,
 "nbformat_minor": 2
}
